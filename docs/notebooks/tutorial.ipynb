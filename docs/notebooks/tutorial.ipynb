{
 "cells": [
  {
   "cell_type": "markdown",
   "metadata": {},
   "source": [
    "# The Five Minute Introduction to SeqLike\n",
    "\n",
    "This notebook aims to teach you, in under 5 minutes worth of reading, all about SeqLike and its major features."
   ]
  },
  {
   "cell_type": "markdown",
   "metadata": {},
   "source": [
    "## Imports"
   ]
  },
  {
   "cell_type": "code",
   "execution_count": null,
   "metadata": {},
   "outputs": [],
   "source": [
    "import matplotlib.pyplot as plt\n",
    "import numpy as np \n",
    "from Bio.Seq import Seq\n",
    "from Bio.SeqRecord import SeqRecord\n",
    "import pandas as pd \n",
    "\n",
    "\n",
    "from seqlike import SeqLike, ntSeqLike, aaSeqLike\n",
    "from seqlike.alphabets import STANDARD_NT, STANDARD_AA"
   ]
  },
  {
   "cell_type": "markdown",
   "metadata": {},
   "source": [
    "## What is SeqLike all about?\n",
    "\n",
    "SeqLike aims to be an omnibus Python object\n",
    "that bridges between different sequence representations:\n",
    "strings, SeqRecord objects, NumPy arrays, and more.\n",
    "It draws heavily upon BioPython's SeqRecord objects, and in \n",
    "most cases can be a drop-in replacement with additional powerful features\n",
    "that bioinformaticians familiar with BioPython\n",
    "will absolutely love ❤️.  "
   ]
  },
  {
   "cell_type": "markdown",
   "metadata": {},
   "source": [
    "### What problems does SeqLike solve?\n",
    "\n",
    "At its core, SeqLike solves the following problems:\n",
    "\n",
    "1. Sequence representation inter-conversion (AA vs. NT, and str/Seq/SeqRecord/arrays) via a single object's API.\n",
    "2. Convenience APIs to manipulate and/or visualize of a collection of sequences."
   ]
  },
  {
   "cell_type": "markdown",
   "metadata": {},
   "source": [
    "## Sequence Representation"
   ]
  },
  {
   "cell_type": "markdown",
   "metadata": {},
   "source": [
    "### Constructing SeqLike objects\n",
    "\n",
    "SeqLikes can be constructed from nucleotide or protein sequences with an explicit sequence type set.  They can wrap string, Seq, SeqRecord, and list/arrays: anything that is _like a sequence_.  This will be clear as we proceed, but for now, we'll just demonstrate with strings:"
   ]
  },
  {
   "cell_type": "code",
   "execution_count": null,
   "metadata": {},
   "outputs": [],
   "source": [
    "aa_sequence = \"PKSAAEKAGLKAGDPKSAAEKAGLKAGDPKSAAEKAGLKAGDPKSAAEKAGLKAGD\"\n",
    "s_aa = SeqLike(aa_sequence, seq_type=\"aa\") # case insensitive\n",
    "\n",
    "nt_sequence = \"AUCTCUCUAUTACUA\"\n",
    "s_nt = SeqLike(nt_sequence, seq_type=\"nt\")  # case insensitive, can be \"nt\", \"dna\", or \"rna\""
   ]
  },
  {
   "cell_type": "markdown",
   "metadata": {},
   "source": [
    "If you know the sequence type ahead of time, we recommend using the helper functions ntSeqLike and aaSeqLike for convenience.  These are not subtypes, but functions that return SeqLike objects of the apropriate seq_type, coercing if necessary.  "
   ]
  },
  {
   "cell_type": "code",
   "execution_count": null,
   "metadata": {},
   "outputs": [],
   "source": [
    "s_aa = aaSeqLike(aa_sequence)\n",
    "s_nt = ntSeqLike(nt_sequence)\n",
    "\n",
    "s_aa_coerced = aaSeqLike(nt_sequence)  # every NT sequence is a valid AA SeqLike with the default alphabets...\n",
    "\n",
    "try:\n",
    "    s_nt_coerced = ntSeqLike(aa_sequence)  # In contrast, virtually every AA sequence is NOT a valid NT SeqLike!\n",
    "except TypeError as e:\n",
    "    print(e)\n"
   ]
  },
  {
   "cell_type": "markdown",
   "metadata": {},
   "source": [
    "The SeqLike `__repr__` (string representing) gives us lots of useful information about the sequence.\n",
    "This one has no nucleotide representation, it has an amino acid representation, and the amino acid representation has an auto-generated ID, \n",
    "unknown name, and unknown description. "
   ]
  },
  {
   "cell_type": "code",
   "execution_count": null,
   "metadata": {},
   "outputs": [],
   "source": [
    "s_aa"
   ]
  },
  {
   "cell_type": "markdown",
   "metadata": {},
   "source": [
    "### Working with SeqLikes with dual NT and AA representations \n",
    "\n",
    "For many workflows, it is powerful to maintain a dual representation of a sequence with AA and NT forms.  SeqLike supports this, and has a notion of the \"current\" sequence type.  All methods (e.g. sub-indexing) act on the current sequence type, but are reflected in the non-active type.\n",
    "\n",
    "Given a DNA or RNA sequence, as long as the nucleotide sequence is a multiple of 3, you can always convert it to the amino acid representation."
   ]
  },
  {
   "cell_type": "code",
   "execution_count": null,
   "metadata": {},
   "outputs": [],
   "source": [
    "s_aa = s_nt.aa()\n",
    "\n",
    "print(s_aa.__repr__()) # current form marked by ***\n",
    "\n",
    "# Note: s_nt is unchanged, we alwas return copies\n",
    "print(f\"\\n{id(s_nt)=}, {id(s_aa)=}\")"
   ]
  },
  {
   "cell_type": "markdown",
   "metadata": {},
   "source": [
    "If the length is not a multiple of 3, then translation is disallowed:"
   ]
  },
  {
   "cell_type": "code",
   "execution_count": null,
   "metadata": {},
   "outputs": [],
   "source": [
    "try:\n",
    "    s_nt[:-1].aa()\n",
    "except TypeError as e:\n",
    "    print(e)\n"
   ]
  },
  {
   "cell_type": "markdown",
   "metadata": {},
   "source": [
    "In contrast to translation, back-translation is ambigious and ill-defined because there are multiple valid codons for each amino acid.  For instance, the amino acid leucine can be encoded in RNA as CUU, CUC, CUA, and CUG.\n",
    "\n",
    "Therefore, to use `.nt()`, you must use a callable that takes an AA sequence and returns a sequence in NT form.  We've included several codon tables (implemented as dictionaries) and associated codon maps (implemented as callables) in `codon_tables.py`.  If you don't provide a codon_map, we raise an error."
   ]
  },
  {
   "cell_type": "code",
   "execution_count": null,
   "metadata": {},
   "outputs": [],
   "source": [
    "from seqlike.codon_tables import human_codon_map\n",
    "\n",
    "try:\n",
    "    s_aa = aaSeqLike(aa_sequence)    \n",
    "    s_aa.nt()\n",
    "except AttributeError as e:\n",
    "    print(e)\n",
    "    \n",
    "print(\"\\n\")\n",
    "\n",
    "s_aa = aaSeqLike(aa_sequence, codon_map=human_codon_map)\n",
    "s_aa.nt()"
   ]
  },
  {
   "cell_type": "markdown",
   "metadata": {},
   "source": [
    "A final note:  `.aa()` and `.nt()` call `.translate()` and `.back_translate()` internally _if needed_.  If the SeqLike has both an AA and an NT, then `.aa()` and `.nt()` just swap the active form of the sequence and return a copy."
   ]
  },
  {
   "cell_type": "markdown",
   "metadata": {},
   "source": [
    "### Manipulating SeqLikes with NT and AA representations (slicing, padding, etc.)\n",
    "\n",
    "In general, all typical sequence methods work on the current active form of the sequence.  For example, if you have an AA SeqLike and you slice it, it will return an AA SeqLike where the NT form as been sliced as well."
   ]
  },
  {
   "cell_type": "code",
   "execution_count": null,
   "metadata": {},
   "outputs": [],
   "source": [
    "s_nt = SeqLike(nt_sequence, seq_type='nt')\n",
    "s_aa = s_nt.aa()\n",
    "\n",
    "s_aa[:3].nt()"
   ]
  },
  {
   "cell_type": "markdown",
   "metadata": {},
   "source": [
    "When you slice an NT SeqLike that has an AA representation, \n",
    "as long as you slice in-frame, you will slice the AA representation as well."
   ]
  },
  {
   "cell_type": "code",
   "execution_count": null,
   "metadata": {},
   "outputs": [],
   "source": [
    "s_nt.aa().nt()[0:6]"
   ]
  },
  {
   "cell_type": "markdown",
   "metadata": {},
   "source": [
    "Slicing out of frame will give you weird behaviour;\n",
    "BioPython will give you a warning,\n",
    "though it's up to you to know what you're doing."
   ]
  },
  {
   "cell_type": "code",
   "execution_count": null,
   "metadata": {},
   "outputs": [],
   "source": [
    "s_nt.aa().nt()[0:4]"
   ]
  },
  {
   "cell_type": "markdown",
   "metadata": {},
   "source": [
    "Finally, here is example usage of a couple of miscellaneous methods:"
   ]
  },
  {
   "cell_type": "code",
   "execution_count": null,
   "metadata": {},
   "outputs": [],
   "source": [
    "# operates on the nt\n",
    "print(f\"{len(s_nt)=}\")\n",
    "\n",
    "# operates on the aa\n",
    "print(f\"{len(s_nt.aa())=}\")\n",
    "\n",
    "# pads the nt, adding a gap character \"-\"\n",
    "print(s_nt.pad_to(18))\n",
    "\n",
    "# pads the aa, using the same gap character \"-\"\n",
    "print(s_nt.aa().pad_to(18))"
   ]
  },
  {
   "cell_type": "markdown",
   "metadata": {},
   "source": [
    "### Initialization from and conversion between different datatypes\n",
    "\n",
    "For machine learning purposes, sequences need to be encoded numerically.  This is typically done by encoding each letter in the sequence in two ways:  \n",
    "\n",
    "1. as a one-hot categorical distribution over alphabet symbols (one hot encoding)\n",
    "2. as an integer-valued index over alphabet symbols (index encoding)\n",
    "\n",
    "SeqLike has robust support for both.  Crucially, numercial representations require an ordered alphabet to map between letter and number.  We provide a default, but See `alphabets.py` for more."
   ]
  },
  {
   "cell_type": "code",
   "execution_count": null,
   "metadata": {},
   "outputs": [],
   "source": [
    "# Manually create many data structures representing the same sequence\n",
    "\n",
    "s_str = 'ACGTTT'\n",
    "s_seq = Seq(s_str)\n",
    "s_seqrecord = SeqRecord(s_seq)\n",
    "\n",
    "s_onehot = [[0, 1, 0, 0, 0, 0, 0],\n",
    "            [0, 0, 1, 0, 0, 0, 0],\n",
    "            [0, 0, 0, 1, 0, 0, 0],\n",
    "            [0, 0, 0, 0, 1, 0, 0],\n",
    "            [0, 0, 0, 0, 1, 0, 0],\n",
    "            [0, 0, 0, 0, 1, 0, 0]]\n",
    "s_index = [1, 2, 3, 4, 4, 4]\n"
   ]
  },
  {
   "cell_type": "code",
   "execution_count": null,
   "metadata": {},
   "outputs": [],
   "source": [
    "\n",
    "for rep in [s_str, s_seq, s_seqrecord, s_onehot, s_index]:\n",
    "    # Default alphabet for NT is \"-ACGTUN\".  See alphabets.py for more.\n",
    "    s_rep = ntSeqLike(rep, alphabet=STANDARD_NT)  \n",
    " \n",
    "    assert len(s_rep)==6\n",
    "    assert s_rep._type == \"NT\"\n",
    "\n",
    "    assert len(s_rep.aa()) == 2\n",
    "    assert s_rep.aa()._type == \"AA\"\n",
    "\n",
    "    print(s_rep)\n"
   ]
  },
  {
   "cell_type": "markdown",
   "metadata": {},
   "source": [
    "### Conversion to strings, Seqs and Seqrecords"
   ]
  },
  {
   "cell_type": "code",
   "execution_count": null,
   "metadata": {},
   "outputs": [],
   "source": [
    "for rep in [s_str, s_seq, s_seqrecord, s_onehot, s_index]:\n",
    "    s_rep = ntSeqLike(rep, alphabet=STANDARD_NT)  \n",
    "    print(f\"{s_rep.to_str()=}\")\n",
    "    print(f\"{s_rep.to_seq()=}\")\n",
    "    print(f\"{s_rep.to_seqrecord()=}\")\n",
    "    print(\"------------------\")\n",
    "    \n",
    "    "
   ]
  },
  {
   "cell_type": "markdown",
   "metadata": {},
   "source": [
    "### Conversion to arrays\n",
    "\n",
    "It is easy to generate the one-hot encoding or index encodings of any SeqLike:"
   ]
  },
  {
   "cell_type": "code",
   "execution_count": null,
   "metadata": {},
   "outputs": [],
   "source": [
    "plt.imshow(s_nt.to_onehot())"
   ]
  },
  {
   "cell_type": "code",
   "execution_count": null,
   "metadata": {},
   "outputs": [],
   "source": [
    "\n",
    "plt.imshow(np.atleast_2d(s_nt.to_index()))"
   ]
  },
  {
   "cell_type": "markdown",
   "metadata": {},
   "source": [
    "### Quacking like SeqRecords\n",
    "\n",
    "SeqLike objects, as we mentioned above, are highly inspired by SeqRecord objects.\n",
    "This means that, if you're used to dealing with collections of SeqRecord objects,\n",
    "you can actually access the underlying attributes easily via the same attribute accessors.\n",
    "Here are a few examples."
   ]
  },
  {
   "cell_type": "markdown",
   "metadata": {},
   "source": [
    "#### Commonly-used SeqRecord attributes"
   ]
  },
  {
   "cell_type": "code",
   "execution_count": null,
   "metadata": {},
   "outputs": [],
   "source": [
    "s_nt"
   ]
  },
  {
   "cell_type": "code",
   "execution_count": null,
   "metadata": {},
   "outputs": [],
   "source": [
    "s_nt.id"
   ]
  },
  {
   "cell_type": "code",
   "execution_count": null,
   "metadata": {},
   "outputs": [],
   "source": [
    "s_nt.description"
   ]
  },
  {
   "cell_type": "code",
   "execution_count": null,
   "metadata": {},
   "outputs": [],
   "source": [
    "s_nt.name"
   ]
  },
  {
   "cell_type": "code",
   "execution_count": null,
   "metadata": {},
   "outputs": [],
   "source": [
    "s_nt.dbxrefs"
   ]
  },
  {
   "cell_type": "markdown",
   "metadata": {},
   "source": [
    "#### Letter annotations\n",
    "\n",
    "Letter annotations are also accessible!"
   ]
  },
  {
   "cell_type": "code",
   "execution_count": null,
   "metadata": {
    "tags": []
   },
   "outputs": [],
   "source": [
    "s_nt.letter_annotations"
   ]
  },
  {
   "cell_type": "markdown",
   "metadata": {},
   "source": [
    "They can also be set!\n",
    "As long as the value fulfills the SeqRecord letter annotation requirement\n",
    "of being a list of the same length as the main SeqRecord,\n",
    "you can add to the `letter_annotations` attribute.\n",
    "For example, if we want to add DNA methylation state:"
   ]
  },
  {
   "cell_type": "code",
   "execution_count": null,
   "metadata": {},
   "outputs": [],
   "source": [
    "len([\n",
    "    None,\n",
    "    None,\n",
    "    \"methylated\",\n",
    "    None,\n",
    "    None,\n",
    "    None,\n",
    "    \"methylated\",\n",
    "])# + [None] * 14)"
   ]
  },
  {
   "cell_type": "code",
   "execution_count": null,
   "metadata": {
    "tags": []
   },
   "outputs": [],
   "source": [
    "s_nt.letter_annotations[\"methylation_state\"] = [\n",
    "    None,\n",
    "    None,\n",
    "    \"methylated\",\n",
    "    None,\n",
    "    None,\n",
    "    None,\n",
    "    \"methylated\",\n",
    "] + [None] * 8\n",
    "\n",
    "s_nt.letter_annotations"
   ]
  },
  {
   "cell_type": "markdown",
   "metadata": {},
   "source": [
    "SeqLike objects [quack like](https://en.wikipedia.org/wiki/Duck_test) SeqRecord objects.\n",
    "We think that means you can take SeqRecord objects and replace them with SeqLike objects with no issue.\n",
    "(But if you find an edge case we haven't yet covered, be sure to let us know!)"
   ]
  },
  {
   "cell_type": "markdown",
   "metadata": {},
   "source": [
    "## Working with collections of SeqLikes in Pandas\n",
    "\n",
    "SeqLike also aims to simplify common tasks when working with _collections_ of sequences.\n",
    "We provide extensive integration with pandas Series via accessor methods,\n",
    "making life supremely easy.\n",
    "\n",
    "Accessor methods are exposed by the automatically generated `.seq` attribute in all pandas Series objects.  If a Series is all SeqLikes, then this namespace will contain many helpful methods for working with them.  Many operations return a new Series of SeqLikes, which added to a DataFrame as a new column and then futher manipulated by using `.seq`, again.\n",
    "\n",
    "Let's say we have the following sequences:"
   ]
  },
  {
   "cell_type": "code",
   "execution_count": null,
   "metadata": {},
   "outputs": [],
   "source": [
    "seqs = [\n",
    "    'LVSIPASSHGKRGLSVSIDPPHGPPGCGTEHSHTVRVQGVDPGCMSPDVKNSIHVGDRILEINGTPIRNVPLDEIDLLIQETSRLLQLTLE',\n",
    "    'LISMPAATDGKRGFSVSVEGGCSSYATGVQVKEVNRMHISPDVRNAIHPADRILEINGAPIRTLQVEEVEDLIRKTSQTLQLLIE',\n",
    "    'LISMPATTECRRGFSVSVESASSNYATTVQVKEVNRMHISPNNRNAIHPGDRILEINGTPVRTLRVEEVEDAINQTSQTLQLLIE',\n",
    "    'SLKVSTSGELSGVGLQINVNPEVDVLEVILPLPGSPAEAAGIEAKDQILAIDGIDTRNIGLEEAAARMRGKKGSTVSLTVK',\n",
    "    'SFNESINLSLEGIGTTLQSEDDEISIKSLVPGAPAERSKKLHPGDKIIGVGQATGDIEDVVGWRLEDLVEKIKGKKGTKVRLEIE',\n",
    "    'NTEMSLSLEGIGAVLQMDDDYTVINSMVAGGPAAKSKAISVGDKIVGVGQTGKPMVDVIGWRLDDVVALIKGPKGSKVRLEIL',\n",
    "    'QQLIEKGLVQRGWLGVQIQPVTKEISDSIGLKEAKGALITDPLKGPAAKAGIKAGDVIISVNGEKINDVRDLAKRIANMSPGETVTLGVW',\n",
    "    'QQILEFGQVRRGLLGIKGGELNADLAKAFNVSAQQGAFVSEVLPKSAAEKAGLKAGDIITAMNGQKISSFAEIRAKIATTGAGKEISLTYL',\n",
    "    'QLIDFGEIKRGLLGIKGTEMSADIAKAFNLDVQRGAFVSEVLPGSGSAKAGVKAGDIITSLNGKPLNSFAELRSRIATTEPGTKVKLGLL',\n",
    "    'QMVEYGQVKRGELGIMGTELNSELAKAMKVDAQRGAFVSQVLPNSSAAKAGIKAGDVITSLNGKPISSFAALRAQVGTMPVGSKLTLGLL',\n",
    "]\n",
    "\n",
    "names = [\n",
    "    'LIMK1_HUMAN/165-255',\n",
    "    'LIMK2_CHICK/152-236',\n",
    "    'LIMK2_RAT/152-236',\n",
    "    'CTPA_SYNP2/102-182',\n",
    "    'PRC_HAEIN/244-328',\n",
    "    'PRC_ECOLI/238-320',\n",
    "    'DEGPL_BARHE/289-378',\n",
    "    'HTOA_HAEIN/268-358',\n",
    "    'DEGQ_ECOLI/257-346',\n",
    "    'DEGP_ECOLI/279-368',\n",
    "]\n",
    "\n",
    "df = pd.DataFrame({'names':names, 'aa_seqs':[aaSeqLike(x) for x in seqs]})\n",
    "df"
   ]
  },
  {
   "cell_type": "markdown",
   "metadata": {},
   "source": [
    "### Plotting\n",
    "\n",
    "Plotting is _dead simple_."
   ]
  },
  {
   "cell_type": "code",
   "execution_count": null,
   "metadata": {},
   "outputs": [],
   "source": [
    "df[\"aa_seqs\"].seq.plot()"
   ]
  },
  {
   "cell_type": "markdown",
   "metadata": {},
   "source": [
    "### Conversion between NT and AA\n",
    "\n",
    "Just as with single sequences, you can easily convert between AA and NT forms in dataframes:"
   ]
  },
  {
   "cell_type": "code",
   "execution_count": null,
   "metadata": {},
   "outputs": [],
   "source": [
    "# backtranslation returns a Series of nt SeqLikes\n",
    "df['nt_seqs'] = df[\"aa_seqs\"].seq.back_translate(codon_map=human_codon_map)\n",
    "df['nt_seqs'].seq.plot()"
   ]
  },
  {
   "cell_type": "markdown",
   "metadata": {},
   "source": [
    "### Creating Multiple Sequence Alignments\n",
    "\n",
    "Traditionally, multiple sequence alignments are a hassle:\n",
    "you have to export the sequence collection to a FASTA file,\n",
    "run a command line program that exports a text file,\n",
    "and then read back the text file into Python.\n",
    "With SeqLike, you have access to MAFFT to do multiple sequence alignments quickly and easily."
   ]
  },
  {
   "cell_type": "code",
   "execution_count": null,
   "metadata": {},
   "outputs": [],
   "source": [
    "df[\"aa_seqs\"].seq.align().seq.plot()"
   ]
  },
  {
   "cell_type": "code",
   "execution_count": null,
   "metadata": {},
   "outputs": [],
   "source": [
    "df[\"nt_seqs\"].seq.align().seq.plot()"
   ]
  },
  {
   "cell_type": "markdown",
   "metadata": {},
   "source": [
    "### Bulk conversion to array forms\n",
    "\n",
    "Just as with single SeqLikes, we can convert a collection of SeqLikes\n",
    "in a Pandas series into their array form.  The sequences are collated along the first (0th) axis.\n",
    "They need not necessarily be pre-aligned, because padding happens by default.   These methods return NumPy arrays, which can be manipulated and viewed as normal.  Here we also plot an aligned, index encoded collection of sequences in matplotlib."
   ]
  },
  {
   "cell_type": "code",
   "execution_count": null,
   "metadata": {},
   "outputs": [],
   "source": [
    "# This works for AA SeqLikes...\n",
    "print(f\"{df['aa_seqs'].seq.to_onehot().shape=}\") # (num_sequences x length x aa alphabet size)\n",
    "\n",
    "plt.imshow(df[\"nt_seqs\"].seq.align().seq.to_index())\n",
    "plt.axis('tight')"
   ]
  }
 ],
 "metadata": {
  "interpreter": {
   "hash": "618887d4b871b19ca5d1a15116bf9c849cf30e1caf04de8218f6b5c5c690fdb5"
  },
  "kernelspec": {
   "display_name": "Python 3.8.5 64-bit ('base': conda)",
   "name": "python3"
  },
  "language_info": {
   "codemirror_mode": {
    "name": "ipython",
    "version": 3
   },
   "file_extension": ".py",
   "mimetype": "text/x-python",
   "name": "python",
   "nbconvert_exporter": "python",
   "pygments_lexer": "ipython3",
   "version": "3.9.0"
  }
 },
 "nbformat": 4,
 "nbformat_minor": 4
}
