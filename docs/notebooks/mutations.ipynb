{
 "cells": [
  {
   "cell_type": "code",
   "execution_count": null,
   "id": "92a4a4b3-af32-49a5-8388-635df5f8eda4",
   "metadata": {},
   "outputs": [],
   "source": [
    "%load_ext autoreload\n",
    "%autoreload 2"
   ]
  },
  {
   "cell_type": "markdown",
   "id": "db4469c9-d563-40e1-af48-7dbd2f343000",
   "metadata": {},
   "source": [
    "# Mutations\n",
    "\n",
    "How do we represent mutations computationally?\n",
    "In SeqLike, we use the family of `Mutation` objects (`Substitution`, `Deletion`, and `Insertion`) as primitives,\n",
    "as well as their `MutationSet` collection.\n",
    "Later on in the notebook, we will show the APIs built on top of these primitive objects\n",
    "that enable fluent sequence design workflows.\n",
    "\n",
    "First off, let's see a few examples in action to get a feel for how it is used."
   ]
  },
  {
   "cell_type": "markdown",
   "id": "a4d4291a-776b-46f9-844f-0381a0c09545",
   "metadata": {},
   "source": [
    "Here's a seqlike object:"
   ]
  },
  {
   "cell_type": "code",
   "execution_count": null,
   "id": "df9df8ee-ae02-4a0f-8def-dacc3b7e63b6",
   "metadata": {},
   "outputs": [],
   "source": [
    "from seqlike.SeqLike import aaSeqLike\n",
    "from seqlike.Mutation import Mutation\n",
    "\n",
    "s1 = aaSeqLike(\"MKAILV\")\n"
   ]
  },
  {
   "cell_type": "markdown",
   "id": "bf91d677-30fc-4e69-beea-a43e3e9d5ccd",
   "metadata": {},
   "source": [
    "And here's a `Substitution` object, created by a generic call to `Mutation`."
   ]
  },
  {
   "cell_type": "code",
   "execution_count": null,
   "id": "8a350754-e6b2-44a6-ae1d-1e1e5f16545b",
   "metadata": {},
   "outputs": [],
   "source": [
    "sub1 = Mutation(\"3K\")\n",
    "sub1"
   ]
  },
  {
   "cell_type": "code",
   "execution_count": null,
   "id": "72a04a1a-e21f-4058-943b-8c40f8da7df3",
   "metadata": {},
   "outputs": [],
   "source": [
    "type(sub1)"
   ]
  },
  {
   "cell_type": "markdown",
   "id": "58b65fff-6b70-4bf4-9b7b-877477b5a62a",
   "metadata": {},
   "source": [
    "They can be added together:"
   ]
  },
  {
   "cell_type": "code",
   "execution_count": null,
   "id": "c688be31-186b-4e9f-a9ca-3581b75f6ada",
   "metadata": {},
   "outputs": [],
   "source": [
    "s1 + sub1"
   ]
  },
  {
   "cell_type": "markdown",
   "id": "6c7eeabd-0ace-4028-9a1d-8d3753eed6ba",
   "metadata": {},
   "source": [
    "For comparison:"
   ]
  },
  {
   "cell_type": "code",
   "execution_count": null,
   "id": "63c3fd16-ee9e-4c8a-b6af-5a2e2bcfe4a7",
   "metadata": {},
   "outputs": [],
   "source": [
    "s1"
   ]
  },
  {
   "cell_type": "markdown",
   "id": "27ca85e3-c9a8-4aaf-9aa8-ab6cc48733c9",
   "metadata": {},
   "source": [
    "Built-in validation of the WT sequence happens if the expected WT sequence is specified:"
   ]
  },
  {
   "cell_type": "code",
   "execution_count": null,
   "id": "780866e0-49a4-43d0-a71e-4f18060c0a8e",
   "metadata": {},
   "outputs": [],
   "source": [
    "sub_with_wt = Mutation(\"K1R\")\n",
    "# s1 + sub_with_wt  # will raise an error."
   ]
  },
  {
   "cell_type": "code",
   "execution_count": null,
   "id": "dbe1a2f0-4922-48f3-bce0-a3b90daba5d9",
   "metadata": {},
   "outputs": [],
   "source": [
    "sub_with_wt = Mutation(\"K2R\")\n",
    "s1 + sub_with_wt  # will NOT raise an error."
   ]
  },
  {
   "cell_type": "markdown",
   "id": "144c0485-69eb-46b1-8b0a-5d83f33aa624",
   "metadata": {},
   "source": [
    "Here's an Insertion object:"
   ]
  },
  {
   "cell_type": "code",
   "execution_count": null,
   "id": "32f7b41f-25b9-4a52-a9f3-8c155871110a",
   "metadata": {},
   "outputs": [],
   "source": [
    "ins1 = Mutation(\"^4D\")\n",
    "type(ins1)\n"
   ]
  },
  {
   "cell_type": "markdown",
   "id": "8150a917-4aff-4113-9888-9262a440467f",
   "metadata": {},
   "source": [
    "It, too, can be added to a seqlike:"
   ]
  },
  {
   "cell_type": "code",
   "execution_count": null,
   "id": "5a376724-0fa3-4dc8-95e4-c20e538fbe36",
   "metadata": {},
   "outputs": [],
   "source": [
    "s1 + ins1"
   ]
  },
  {
   "cell_type": "markdown",
   "id": "31759745-eaf5-4f78-b0af-5869121202a3",
   "metadata": {},
   "source": [
    "Finally, a `Deletion` object:"
   ]
  },
  {
   "cell_type": "code",
   "execution_count": null,
   "id": "998288ef-b94d-4b1e-b60b-550109f717cd",
   "metadata": {},
   "outputs": [],
   "source": [
    "del1 = Mutation(\"2-\")\n",
    "del1"
   ]
  },
  {
   "cell_type": "code",
   "execution_count": null,
   "id": "6c243c98-b18b-4ee9-a1a2-ea2eb9900c0c",
   "metadata": {},
   "outputs": [],
   "source": [
    "type(del1)"
   ]
  },
  {
   "cell_type": "markdown",
   "id": "42d2265b-5bcb-4298-a6a6-9435100e2b8c",
   "metadata": {},
   "source": [
    "Deletions behave like a special case substitution:"
   ]
  },
  {
   "cell_type": "code",
   "execution_count": null,
   "id": "15abb703-fe95-4656-a6b5-36bbec11e6e8",
   "metadata": {},
   "outputs": [],
   "source": [
    "s1 + del1"
   ]
  },
  {
   "cell_type": "markdown",
   "id": "0870e7b9-c54e-4db7-bcd0-1c6024aaf4c3",
   "metadata": {},
   "source": [
    "Finally, if you really don't like the gap, you can always ungap the resulting SeqLike:"
   ]
  },
  {
   "cell_type": "code",
   "execution_count": null,
   "id": "e82b8b6e-4f6f-42fe-966b-046af6640213",
   "metadata": {},
   "outputs": [],
   "source": [
    "(s1 + del1).ungap()"
   ]
  },
  {
   "cell_type": "markdown",
   "id": "ff95a701-1ec9-40b7-bbe4-b38e487b057d",
   "metadata": {},
   "source": [
    "Just be aware that you lose the original reference length and coordinate system."
   ]
  },
  {
   "cell_type": "markdown",
   "id": "8a66baf6-96af-4969-8b2b-a91d7721ab8d",
   "metadata": {},
   "source": [
    "## Mutation Sets\n",
    "\n",
    "MutationSets allow for collections of one or more mutations to be housed together.\n",
    "For example, let's combine one of our substitutions and insertions together."
   ]
  },
  {
   "cell_type": "code",
   "execution_count": null,
   "id": "e7cc7cc9-e758-46f9-8856-301e09675a47",
   "metadata": {},
   "outputs": [],
   "source": [
    "sub1, ins1"
   ]
  },
  {
   "cell_type": "code",
   "execution_count": null,
   "id": "9d949995-e6d5-45a7-a13d-ebf5c81b5416",
   "metadata": {},
   "outputs": [],
   "source": [
    "from seqlike.MutationSet import MutationSet \n",
    "\n",
    "ms1 = MutationSet([sub1, ins1])\n",
    "ms1\n",
    "# ms3 = ms1 + ms2"
   ]
  },
  {
   "cell_type": "markdown",
   "id": "94bc8549-afeb-4429-b392-0f578be49b06",
   "metadata": {},
   "source": [
    "`MutationSet` objects have a special property that shows which positions are represented."
   ]
  },
  {
   "cell_type": "code",
   "execution_count": null,
   "id": "8131e3c0-701b-4056-ab24-1ca1390b9e39",
   "metadata": {},
   "outputs": [],
   "source": [
    "ms1.positions"
   ]
  },
  {
   "cell_type": "markdown",
   "id": "dcf5e506-021c-4640-ac73-c8e05cd0e5cf",
   "metadata": {},
   "source": [
    "We can add a MutationSet to a SeqLike object."
   ]
  },
  {
   "cell_type": "code",
   "execution_count": null,
   "id": "7992bc12-09ec-420d-adfe-23159da848a3",
   "metadata": {},
   "outputs": [],
   "source": [
    "s1 + ms1"
   ]
  },
  {
   "cell_type": "markdown",
   "id": "48353545-6572-4d95-99e2-bb481a4a2a80",
   "metadata": {},
   "source": [
    "The operations are don't modify internal state, \n",
    "so re-running them again guarantees identical results:"
   ]
  },
  {
   "cell_type": "code",
   "execution_count": null,
   "id": "26916cbe-ccc1-43af-b995-925ed397702b",
   "metadata": {},
   "outputs": [],
   "source": [
    "s1 + ms1"
   ]
  },
  {
   "cell_type": "code",
   "execution_count": null,
   "id": "a07ea1be-259e-48b5-bd42-4c1ef7454bb1",
   "metadata": {},
   "outputs": [],
   "source": [
    "s1 + ms1"
   ]
  },
  {
   "cell_type": "markdown",
   "id": "1199eb7d-f0ba-4cc9-a789-73a28a9ec9fb",
   "metadata": {},
   "source": [
    "Mutations in a MutationSet are applied from left to right.\n",
    "What happens, though, if an Insertion (which changes the indexing),\n",
    "is added before a Substitution (which doesn't)?"
   ]
  },
  {
   "cell_type": "code",
   "execution_count": null,
   "id": "897cb730-8461-46a0-801a-3ee130fc6ce9",
   "metadata": {},
   "outputs": [],
   "source": [
    "sub1"
   ]
  },
  {
   "cell_type": "code",
   "execution_count": null,
   "id": "bdf659d7-b3e8-4260-91ae-5718e2e41605",
   "metadata": {},
   "outputs": [],
   "source": [
    "ms1_swapped = MutationSet([ins1, sub1])\n",
    "ms1_swapped\n",
    "s1 + ms1_swapped"
   ]
  },
  {
   "cell_type": "markdown",
   "id": "0279d986-4d0f-4312-880c-4ced10ec409e",
   "metadata": {},
   "source": [
    "Within a MutationSet, we preserve indexing w.r.t. the original sequence,\n",
    "and internally propagate insertions of positions throughout the sequence.\n",
    "If you have multiple MutationSets, however, \n",
    "then indexing is preserved w.r.t. the previous SeqLike, from left to right:"
   ]
  },
  {
   "cell_type": "code",
   "execution_count": null,
   "id": "fb09eb01-c44d-442a-b9de-c9bb819c2ef0",
   "metadata": {},
   "outputs": [],
   "source": [
    "# THIS:\n",
    "s1 + ms1 + ms1_swapped"
   ]
  },
  {
   "cell_type": "code",
   "execution_count": null,
   "id": "f389a23e-818f-4271-a2ca-61182b24e587",
   "metadata": {},
   "outputs": [],
   "source": [
    "# IS EQUIVALENT TO THIS:\n",
    "intermediate = s1 + ms1\n",
    "s2 = intermediate + ms1_swapped\n",
    "s2"
   ]
  },
  {
   "cell_type": "markdown",
   "id": "9c69db95-2159-41ab-9ca4-de06317bbdc4",
   "metadata": {},
   "source": [
    "Be careful when adding two mutationsets together, because they simply get added up."
   ]
  },
  {
   "cell_type": "code",
   "execution_count": null,
   "id": "c8e0d56e-42a9-487f-a2ab-d47f5eaaa5df",
   "metadata": {},
   "outputs": [],
   "source": [
    "combined_ms = MutationSet(mutations=\"2A;3C\".split(\";\")) + MutationSet(mutations=\"2D;4K\".split(\";\"))\n",
    "combined_ms"
   ]
  },
  {
   "cell_type": "code",
   "execution_count": null,
   "id": "2b8ef2aa-04ff-4741-8204-f1b1b4222e52",
   "metadata": {},
   "outputs": [],
   "source": [
    "s1 + combined_ms"
   ]
  },
  {
   "cell_type": "markdown",
   "id": "02554468-4749-4362-91b9-fed71b1558de",
   "metadata": {},
   "source": [
    "Note here how only mutation 2D ended up being retained."
   ]
  },
  {
   "cell_type": "markdown",
   "id": "0b919965-08d8-4bc9-a969-e2fb14eb8d13",
   "metadata": {},
   "source": [
    "## Magical Mutation Set string parsing\n",
    "\n",
    "It's really tedious to specify multiple mutations as specific objects,\n",
    "so we have a magical parser that allows us to parse mutation strings:"
   ]
  },
  {
   "cell_type": "code",
   "execution_count": null,
   "id": "954485eb-4f5e-4c6b-ae32-a8f72d11f374",
   "metadata": {},
   "outputs": [],
   "source": [
    "s1"
   ]
  },
  {
   "cell_type": "code",
   "execution_count": null,
   "id": "9cf6b8f1-2b70-460b-a6be-588636eac2b5",
   "metadata": {},
   "outputs": [],
   "source": [
    "mutations = \"^2A;^4D;5-\" # insertion, substitution, deletion\n",
    "ms2 = MutationSet(mutations=mutations.split(\";\"))\n",
    "\n",
    "# The rest of the mutations in the set are offset by the correct amount\n",
    "s1 + ms2"
   ]
  },
  {
   "cell_type": "code",
   "execution_count": null,
   "id": "813147c1-6d38-4749-a77d-4c05e8deeadd",
   "metadata": {},
   "outputs": [],
   "source": [
    "import pandas as pd \n",
    "\n",
    "series = pd.Series([\"2A;3C;4D\", \"2A;3C\"], name=\"mutations\")\n",
    "series.apply(lambda mutation_str: MutationSet(mutation_str.split(\";\"))).apply(lambda mutset: s1 + mutset)"
   ]
  },
  {
   "cell_type": "code",
   "execution_count": null,
   "id": "2e69299f-854d-4228-bfb0-854cc6a833e2",
   "metadata": {},
   "outputs": [],
   "source": [
    "# Get back ;-delimited string:\n",
    "str(ms1)"
   ]
  },
  {
   "cell_type": "code",
   "execution_count": null,
   "id": "afb4dd77-0d76-4e88-b329-b31f1d24f916",
   "metadata": {},
   "outputs": [],
   "source": [
    "ms1.to_str()"
   ]
  },
  {
   "cell_type": "markdown",
   "id": "34574e7d-c140-43c6-9a03-781f81b2678d",
   "metadata": {},
   "source": [
    "## Mutational Scanning"
   ]
  },
  {
   "cell_type": "markdown",
   "id": "6b82b379-044c-40b5-92ec-8f3529344f5b",
   "metadata": {},
   "source": [
    "Mutational scanning, such as an Alanine scan, looks like this:"
   ]
  },
  {
   "cell_type": "code",
   "execution_count": null,
   "id": "8e3298ec-265d-46f2-b938-8cc33b23b3e0",
   "metadata": {},
   "outputs": [],
   "source": [
    "from seqlike import SeqLike \n",
    "from typing import List \n",
    "\n",
    "def alanine_scan(s: SeqLike) -> List[SeqLike]:\n",
    "    mutants = []\n",
    "    for i in range(len(s)):\n",
    "        mutants.append(s + Substitution(f\"{i}A\"))\n",
    "    return mutants\n"
   ]
  },
  {
   "cell_type": "markdown",
   "id": "a3dcfff2-cf5f-4c90-9245-2e675168c6c6",
   "metadata": {},
   "source": [
    "We've wrapped that functionality in the SeqLike class."
   ]
  },
  {
   "cell_type": "code",
   "execution_count": null,
   "id": "bdf0c27b-f95a-424a-bcce-98a12774d5ce",
   "metadata": {},
   "outputs": [],
   "source": [
    "s1.scan(\"A\")\n"
   ]
  },
  {
   "cell_type": "markdown",
   "id": "6c894be2-f85e-4c84-a0ad-f5d902ed89a5",
   "metadata": {},
   "source": [
    "We can do arbitrary scans too:"
   ]
  },
  {
   "cell_type": "code",
   "execution_count": null,
   "id": "2c0d5574-fc28-40ec-a1ba-835a90f235d4",
   "metadata": {},
   "outputs": [],
   "source": [
    "s1.scan(\"W\")\n"
   ]
  },
  {
   "cell_type": "markdown",
   "id": "ecc58f34-7f84-44a7-8ab3-45d499e30952",
   "metadata": {},
   "source": [
    "Finally, we can always back-mutate sequences into their original."
   ]
  },
  {
   "cell_type": "code",
   "execution_count": null,
   "id": "6aa58ddc-2212-4ef7-9571-e1e0b1d90da8",
   "metadata": {},
   "outputs": [],
   "source": [
    "# Do an Alanine Scan but ensure wanted mutations w.r.t. WT are preserved.\n",
    "s1.scan(\"A\").apply(lambda seq: seq + MutationSet(\"1M;6C\".split(\";\")))\n"
   ]
  },
  {
   "cell_type": "markdown",
   "id": "565245d9-783e-4a62-bed5-a7537546bc52",
   "metadata": {},
   "source": [
    "## Differencing SeqLikes\n",
    "\n",
    "The `__sub__` operator has been overloaded such that if we subtract one seqlike from another seqlike,\n",
    "we get back a mutation set w.r.t. the left seqlike that can be added back to the left seqlike to obtain the right seqlike."
   ]
  },
  {
   "cell_type": "markdown",
   "id": "884ab47c-99c0-4937-8d0c-54df61ffa001",
   "metadata": {},
   "source": [
    "For example, with a SeqLikes `s1`:"
   ]
  },
  {
   "cell_type": "code",
   "execution_count": null,
   "id": "cab301e2-bf01-4eb5-8e3e-250767cceb71",
   "metadata": {},
   "outputs": [],
   "source": [
    "s1\n"
   ]
  },
  {
   "cell_type": "markdown",
   "id": "6e73ba7d-64e2-4979-be55-9e041c43af74",
   "metadata": {},
   "source": [
    "And a particular mutation:"
   ]
  },
  {
   "cell_type": "code",
   "execution_count": null,
   "id": "24ca437e-4a97-4a4e-8ac5-f75ea5325e0c",
   "metadata": {},
   "outputs": [],
   "source": [
    "sub1"
   ]
  },
  {
   "cell_type": "markdown",
   "id": "c23894be-e39f-4d1b-9b41-86f75aac1e4b",
   "metadata": {},
   "source": [
    "We can obtain the difference between `s1` and `s1 + ms1`:"
   ]
  },
  {
   "cell_type": "code",
   "execution_count": null,
   "id": "975d6a34-7ad3-4f43-9931-e299643b188d",
   "metadata": {},
   "outputs": [],
   "source": [
    "diff1 = s1 - (s1 + sub1)\n",
    "diff1"
   ]
  },
  {
   "cell_type": "markdown",
   "id": "02306590-4b58-426b-81ac-54c7c680e240",
   "metadata": {},
   "source": [
    "The resulting MutationSet is an _inferred_ set of mutations needed\n",
    "to reconstruct the sequence on the right side of the plus sign from the left side.\n",
    "It may not always be the same as the original mutation set.\n",
    "Numbering is always going to be with respect to an ungapped reference (left hand side) sequence."
   ]
  },
  {
   "cell_type": "code",
   "execution_count": null,
   "id": "861369d1-fd03-44cf-92c1-a427b19d8358",
   "metadata": {},
   "outputs": [],
   "source": [
    "diff2 = (s1 + sub1) - s1\n",
    "diff2"
   ]
  },
  {
   "cell_type": "markdown",
   "id": "07cee914-b99e-4a82-8390-7d3b09af05d2",
   "metadata": {},
   "source": [
    "We can apply the mutation inferred mutation sets and verify that we get back the same mutated sequence:"
   ]
  },
  {
   "cell_type": "code",
   "execution_count": null,
   "id": "5d684ca6-f4a2-405b-beb3-474bd3c2d414",
   "metadata": {},
   "outputs": [],
   "source": [
    "s1 + sub1"
   ]
  },
  {
   "cell_type": "markdown",
   "id": "26915eaa-86e7-4051-ae91-12b5f97c9b81",
   "metadata": {},
   "source": [
    "which can be compared to:"
   ]
  },
  {
   "cell_type": "code",
   "execution_count": null,
   "id": "a3b4cedb-bf08-430e-9d65-ae72a01a6140",
   "metadata": {},
   "outputs": [],
   "source": [
    "s1 + diff1"
   ]
  },
  {
   "cell_type": "markdown",
   "id": "fb689d4c-ea0d-41c7-99f7-837177f6873d",
   "metadata": {},
   "source": [
    "We can verify equality of the two strings below:"
   ]
  },
  {
   "cell_type": "code",
   "execution_count": null,
   "id": "d6543ceb-73fd-4015-b71c-aaef0e841776",
   "metadata": {},
   "outputs": [],
   "source": [
    "(s1 + sub1).to_str() ==  (s1 + diff1).to_str()"
   ]
  },
  {
   "cell_type": "markdown",
   "id": "56f2cccd-f529-4051-a016-e35a1e8993aa",
   "metadata": {},
   "source": [
    "Let's try with a mutation set, one that is a bit more complicated. Firstly, here's the first mutation set we used:"
   ]
  },
  {
   "cell_type": "code",
   "execution_count": null,
   "id": "4e2edb29-c052-4841-a16b-57f794d29b2f",
   "metadata": {},
   "outputs": [],
   "source": [
    "ms1"
   ]
  },
  {
   "cell_type": "markdown",
   "id": "3d49a0e6-e4e5-4e3e-8b88-34b7130ad756",
   "metadata": {},
   "source": [
    "Let's check the diff of the two sequences:"
   ]
  },
  {
   "cell_type": "code",
   "execution_count": null,
   "id": "752bfc34-e779-459b-ad16-04716edad5d4",
   "metadata": {},
   "outputs": [],
   "source": [
    "diff1 = s1 - (s1 + ms1)\n",
    "diff1"
   ]
  },
  {
   "cell_type": "code",
   "execution_count": null,
   "id": "5c254d30-e932-4b5d-b6ce-77ae887b2882",
   "metadata": {},
   "outputs": [],
   "source": [
    "s1 + ms1"
   ]
  },
  {
   "cell_type": "code",
   "execution_count": null,
   "id": "bd183f9c-96c3-420b-b507-f7b269663367",
   "metadata": {},
   "outputs": [],
   "source": [
    "s1 + diff1"
   ]
  },
  {
   "cell_type": "markdown",
   "id": "6340bbc7-4262-4712-bae8-72ce24c8ee44",
   "metadata": {},
   "source": [
    "Likewise, we can check their equality:"
   ]
  },
  {
   "cell_type": "code",
   "execution_count": null,
   "id": "44d511fb-47c4-4bd4-909f-b3d87116fe5a",
   "metadata": {},
   "outputs": [],
   "source": [
    "(s1 + ms1).to_str() == (s1 + diff1).to_str()\n"
   ]
  },
  {
   "cell_type": "markdown",
   "id": "04b5d441-69d0-403d-9938-825b595bed70",
   "metadata": {},
   "source": [
    "Let's try with a mutationset that is a bit more complicated."
   ]
  },
  {
   "cell_type": "code",
   "execution_count": null,
   "id": "21877169-5545-42c4-b43a-941e1d942feb",
   "metadata": {},
   "outputs": [],
   "source": [
    "ms2"
   ]
  },
  {
   "cell_type": "code",
   "execution_count": null,
   "id": "fb8d2651-b1ae-4f9f-96be-33ff51a4a761",
   "metadata": {},
   "outputs": [],
   "source": [
    "diff = s1 - (s1 + ms2)\n",
    "diff"
   ]
  },
  {
   "cell_type": "markdown",
   "id": "ec6b2e76-2a7b-4be8-9243-7ec713348c62",
   "metadata": {},
   "source": [
    "Equality is preserved when we _ungap_ the sequences."
   ]
  },
  {
   "cell_type": "code",
   "execution_count": null,
   "id": "67413ca2-49e8-46ef-b669-bac768567412",
   "metadata": {},
   "outputs": [],
   "source": [
    "(s1 + diff).ungap().to_str() ==  (s1 + ms2).ungap().to_str()"
   ]
  },
  {
   "cell_type": "markdown",
   "id": "23bfd5fb-e12a-4aaa-8351-2a12b28c1343",
   "metadata": {},
   "source": [
    "Finally, let's do a really complicated one with 3 substitutions:"
   ]
  },
  {
   "cell_type": "code",
   "execution_count": null,
   "id": "3d084b31-b604-492d-9f16-5561e5740ef2",
   "metadata": {},
   "outputs": [],
   "source": [
    "ms3 = MutationSet(\"2A;3F;4Q\".split(\";\"))"
   ]
  },
  {
   "cell_type": "code",
   "execution_count": null,
   "id": "133764c6-6119-4799-86f5-acf2a356a7cd",
   "metadata": {},
   "outputs": [],
   "source": [
    "diff = s1 - s1 + ms3\n",
    "diff"
   ]
  },
  {
   "cell_type": "markdown",
   "id": "326ddabf-b361-40d9-b0f8-1cd4861ac544",
   "metadata": {},
   "source": [
    "As you can see, this is pretty trivial, not actually complicated ;)."
   ]
  },
  {
   "cell_type": "code",
   "execution_count": null,
   "id": "5b1eb951-e968-4e54-9b6a-7539d831f03c",
   "metadata": {},
   "outputs": [],
   "source": [
    "(s1 + diff).ungap().to_str() == (s1 + ms3).ungap().to_str()"
   ]
  }
 ],
 "metadata": {
  "kernelspec": {
   "display_name": "Python 3.9.0 ('base')",
   "language": "python",
   "name": "python3"
  },
  "language_info": {
   "codemirror_mode": {
    "name": "ipython",
    "version": 3
   },
   "file_extension": ".py",
   "mimetype": "text/x-python",
   "name": "python",
   "nbconvert_exporter": "python",
   "pygments_lexer": "ipython3",
   "version": "3.9.0"
  },
  "vscode": {
   "interpreter": {
    "hash": "d4d1e4263499bec80672ea0156c357c1ee493ec2b1c70f0acce89fc37c4a6abe"
   }
  }
 },
 "nbformat": 4,
 "nbformat_minor": 5
}
