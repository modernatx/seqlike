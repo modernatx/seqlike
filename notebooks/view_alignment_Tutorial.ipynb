{
 "cells": [
  {
   "cell_type": "markdown",
   "source": [
    "### Demonstrate bokeh-based sequence alignment viewer"
   ],
   "metadata": {}
  },
  {
   "cell_type": "raw",
   "source": [
    "! pip install bokeh"
   ],
   "metadata": {}
  },
  {
   "cell_type": "code",
   "execution_count": null,
   "source": [
    "import sys\n",
    "# set paths to seqlike and coddon repos here!\n",
    "sys.path.insert(0, '../')"
   ],
   "outputs": [],
   "metadata": {}
  },
  {
   "cell_type": "code",
   "execution_count": null,
   "source": [
    "from Bio import SeqIO\n",
    "import pandas as pd\n",
    "from seqlike import SeqLike\n",
    "\n",
    "sliced = pd.Series(SeqLike(s, 'aa') for s in SeqIO.parse('test_blast_sliced.fasta', 'fasta'))\n",
    "print(len(sliced))\n",
    "sliced.seq.plot(boxheight=1)"
   ],
   "outputs": [],
   "metadata": {}
  },
  {
   "cell_type": "code",
   "execution_count": null,
   "source": [
    "_ = sliced.seq.plot()"
   ],
   "outputs": [],
   "metadata": {}
  },
  {
   "cell_type": "code",
   "execution_count": null,
   "source": [
    "_ = sliced.seq.plot(show_N=50)"
   ],
   "outputs": [],
   "metadata": {}
  },
  {
   "cell_type": "markdown",
   "source": [
    "### show_grouping and show_descriptions"
   ],
   "metadata": {}
  },
  {
   "cell_type": "code",
   "execution_count": null,
   "source": [
    "_ = sliced[:20].seq.plot(show_grouping=True, show_descriptions=True, label_width=100, show_N=50)#, plot_width=900)"
   ],
   "outputs": [],
   "metadata": {}
  },
  {
   "cell_type": "markdown",
   "source": [
    "### try a different `boxwidth` and `show_N`"
   ],
   "metadata": {}
  },
  {
   "cell_type": "code",
   "execution_count": null,
   "source": [
    "_ = sliced.seq.plot(show_N=80, boxwidth=5)"
   ],
   "outputs": [],
   "metadata": {}
  },
  {
   "cell_type": "code",
   "execution_count": null,
   "source": [
    "_ = sliced.seq.plot(show_N=50, boxwidth=5)"
   ],
   "outputs": [],
   "metadata": {}
  },
  {
   "cell_type": "code",
   "execution_count": null,
   "source": [],
   "outputs": [],
   "metadata": {}
  }
 ],
 "metadata": {
  "kernelspec": {
   "name": "python3",
   "display_name": "Python 3.8.5 64-bit ('base': conda)"
  },
  "language_info": {
   "codemirror_mode": {
    "name": "ipython",
    "version": 3
   },
   "file_extension": ".py",
   "mimetype": "text/x-python",
   "name": "python",
   "nbconvert_exporter": "python",
   "pygments_lexer": "ipython3",
   "version": "3.8.5"
  },
  "interpreter": {
   "hash": "618887d4b871b19ca5d1a15116bf9c849cf30e1caf04de8218f6b5c5c690fdb5"
  }
 },
 "nbformat": 4,
 "nbformat_minor": 4
}